{
 "cells": [
  {
   "cell_type": "code",
   "execution_count": 1,
   "metadata": {},
   "outputs": [],
   "source": [
    "totalprocess = 5\n",
    "proc = [] \n",
    "for i in range(5): \n",
    "    l = [] \n",
    "    for j in range(4): \n",
    "        l.append(0) \n",
    "    proc.append(l) "
   ]
  },
  {
   "cell_type": "code",
   "execution_count": 2,
   "metadata": {},
   "outputs": [],
   "source": [
    "def get_wt_time( wt):  \n",
    "  \n",
    "    # declaring service array that stores \n",
    "    # cumulative burst time  \n",
    "    service = [0] * 5\n",
    "  \n",
    "    # Initilising initial elements  \n",
    "    # of the arrays  \n",
    "    service[0] = 0\n",
    "    wt[0] = 0\n",
    "  \n",
    "    for i in range(1, totalprocess):  \n",
    "        service[i] = proc[i - 1][1] + service[i - 1]  \n",
    "        wt[i] = service[i] - proc[i][0] + 1\n",
    "  \n",
    "        # If waiting time is negative, \n",
    "        # change it o zero  \n",
    "        if(wt[i] < 0) :      \n",
    "            wt[i] = 0"
   ]
  },
  {
   "cell_type": "code",
   "execution_count": 3,
   "metadata": {},
   "outputs": [],
   "source": [
    "def get_tat_time(tat, wt):  \n",
    "  \n",
    "    # Filling turnaroundtime array  \n",
    "    for i in range(totalprocess): \n",
    "        tat[i] = proc[i][1] + wt[i]"
   ]
  },
  {
   "cell_type": "code",
   "execution_count": 5,
   "metadata": {},
   "outputs": [],
   "source": [
    "def findgc(): \n",
    "      \n",
    "    # Declare waiting time and \n",
    "    # turnaround time array  \n",
    "    wt = [0] * 5\n",
    "    tat = [0] * 5\n",
    "  \n",
    "    wavg = 0\n",
    "    tavg = 0\n",
    "  \n",
    "    # Function call to find waiting time array  \n",
    "    get_wt_time(wt)  \n",
    "      \n",
    "    # Function call to find turnaround time  \n",
    "    get_tat_time(tat, wt)  \n",
    "  \n",
    "    stime = [0] * 5\n",
    "    ctime = [0] * 5\n",
    "    stime[0] = 1\n",
    "    ctime[0] = stime[0] + tat[0] \n",
    "      \n",
    "    # calculating starting and ending time  \n",
    "    for i in range(1, totalprocess):  \n",
    "        stime[i] = ctime[i - 1]  \n",
    "        ctime[i] = stime[i] + tat[i] - wt[i]  \n",
    "  \n",
    "    print(\"Process_no\\tStart_time\\tComplete_time\", \n",
    "               \"\\tTurn_Around_Time\\tWaiting_Time\") \n",
    "  \n",
    "    # display the process details  \n",
    "    for i in range(totalprocess): \n",
    "        wavg += wt[i]  \n",
    "        tavg += tat[i]  \n",
    "          \n",
    "        print(proc[i][3], \"\\t\\t\", stime[i],  \n",
    "                         \"\\t\\t\", end = \" \") \n",
    "        print(ctime[i], \"\\t\\t\", tat[i], \"\\t\\t\\t\", wt[i])  \n",
    "  \n",
    "  \n",
    "    # display the average waiting time  \n",
    "    # and average turn around time  \n",
    "    print(\"Average waiting time is : \", end = \" \") \n",
    "    print(wavg / totalprocess) \n",
    "    print(\"average turnaround time : \" , end = \" \") \n",
    "    print(tavg / totalprocess) "
   ]
  },
  {
   "cell_type": "code",
   "execution_count": 6,
   "metadata": {},
   "outputs": [
    {
     "name": "stdout",
     "output_type": "stream",
     "text": [
      "Process_no\tStart_time\tComplete_time \tTurn_Around_Time\tWaiting_Time\n",
      "1 \t\t 1 \t\t 4 \t\t 3 \t\t\t 0\n",
      "2 \t\t 4 \t\t 9 \t\t 7 \t\t\t 2\n",
      "3 \t\t 9 \t\t 10 \t\t 7 \t\t\t 6\n",
      "4 \t\t 10 \t\t 17 \t\t 13 \t\t\t 6\n",
      "5 \t\t 17 \t\t 21 \t\t 16 \t\t\t 12\n",
      "Average waiting time is :  5.2\n",
      "average turnaround time :  9.2\n"
     ]
    }
   ],
   "source": [
    "if __name__ ==\"__main__\": \n",
    "    arrivaltime = [1, 2, 3, 4, 5] \n",
    "    bursttime = [3, 5, 1, 7, 4] \n",
    "    priority = [3, 4, 1, 7, 8]  \n",
    "      \n",
    "    for i in range(totalprocess):  \n",
    "  \n",
    "        proc[i][0] = arrivaltime[i]  \n",
    "        proc[i][1] = bursttime[i]  \n",
    "        proc[i][2] = priority[i]  \n",
    "        proc[i][3] = i + 1\n",
    "      \n",
    "    # Using inbuilt sort function  \n",
    "    proc = sorted (proc, key = lambda x:x[2]) \n",
    "    proc = sorted (proc) \n",
    "      \n",
    "    # Calling function findgc for \n",
    "    # finding Gantt Chart  \n",
    "    findgc()  "
   ]
  },
  {
   "cell_type": "code",
   "execution_count": null,
   "metadata": {},
   "outputs": [],
   "source": []
  }
 ],
 "metadata": {
  "kernelspec": {
   "display_name": "Python 3",
   "language": "python",
   "name": "python3"
  },
  "language_info": {
   "codemirror_mode": {
    "name": "ipython",
    "version": 3
   },
   "file_extension": ".py",
   "mimetype": "text/x-python",
   "name": "python",
   "nbconvert_exporter": "python",
   "pygments_lexer": "ipython3",
   "version": "3.8.3"
  }
 },
 "nbformat": 4,
 "nbformat_minor": 4
}
